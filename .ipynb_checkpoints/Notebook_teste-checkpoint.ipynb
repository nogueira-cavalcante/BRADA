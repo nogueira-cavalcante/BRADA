{
 "cells": [
  {
   "cell_type": "code",
   "execution_count": 11,
   "metadata": {},
   "outputs": [],
   "source": [
    "from sklearn.base import BaseEstimator\n",
    "from sklearn.base import RegressorMixin\n",
    "import numpy as np\n",
    "\n",
    "class MyOwnRegressor(BaseEstimator, RegressorMixin):\n",
    "    \n",
    "    \"\"\"\n",
    "    An example of regressor\n",
    "    \"\"\"\n",
    "    \n",
    "    def __init__(self, c=1):\n",
    "        \"\"\"\n",
    "        Called when initializing the classifier\n",
    "        \"\"\"\n",
    "        self.gamma=gamma\n",
    "        self.c=c\n",
    "        self.d=d\n",
    "        self.sigma=sigma\n",
    "        if (kernel is None):\n",
    "           self.kernel='rbf'\n",
    "        else:\n",
    "           self.kernel=kernel\n",
    "\n",
    "        params=dict()\n",
    "        if (kernel=='poly'):\n",
    "           params['c']=c\n",
    "           params['d']=d\n",
    "        elif (kernel=='rbf'):\n",
    "           params['sigma']=sigma\n",
    "\n",
    "        self.kernel_=LSSVMRegression.__set_kernel(self.kernel,**params)\n",
    "\n",
    "        self.x=None\n",
    "        self.y=None\n",
    "        self.coef_=None\n",
    "        self.intercept_=None\n",
    "    \n",
    "    def fit(self, X, y):\n",
    "        self.x=X\n",
    "        self.y=y\n",
    "        Omega=self.kernel_(self.x,self.x)\n",
    "        Ones=np.array([[1]]*len(self.y)) \n",
    "\n",
    "        A_dag = np.linalg.pinv(np.block([\n",
    "         [0, Ones.T ],\n",
    "         [Ones, Omega + self.gamma**-1 * np.identity(len(self.y))]\n",
    "         ])) \n",
    "        B = np.concatenate((np.array([0]),self.y), axis=None)\n",
    "\n",
    "        solution = np.dot(A_dag, B)\n",
    "        self.intercept_ = solution[0]\n",
    "        self.coef_ = solution[1:]\n",
    "        \n",
    "        return self\n",
    "    \n",
    "    def predict(self, X):\n",
    "        \n",
    "        Ker = self.kernel_(X,self.x)\n",
    "        Y=np.dot(self.coef_,Ker.T) +self.intercept_\n",
    "        return Y"
   ]
  },
  {
   "cell_type": "code",
   "execution_count": 12,
   "metadata": {},
   "outputs": [],
   "source": [
    "reg = MyOwnRegressor()"
   ]
  },
  {
   "cell_type": "code",
   "execution_count": 13,
   "metadata": {},
   "outputs": [
    {
     "name": "stdout",
     "output_type": "stream",
     "text": [
      "(506, 13)\n"
     ]
    }
   ],
   "source": [
    "from sklearn.datasets import load_boston\n",
    "X, y = load_boston(return_X_y=True)\n",
    "print(X.shape)"
   ]
  },
  {
   "cell_type": "code",
   "execution_count": 14,
   "metadata": {},
   "outputs": [
    {
     "data": {
      "text/plain": [
       "MyOwnRegressor()"
      ]
     },
     "execution_count": 14,
     "metadata": {},
     "output_type": "execute_result"
    }
   ],
   "source": [
    "reg.fit(X, y)"
   ]
  },
  {
   "cell_type": "code",
   "execution_count": 15,
   "metadata": {},
   "outputs": [
    {
     "ename": "TypeError",
     "evalue": "'MyOwnRegressor' object is not callable",
     "output_type": "error",
     "traceback": [
      "\u001b[1;31m---------------------------------------------------------------------------\u001b[0m",
      "\u001b[1;31mTypeError\u001b[0m                                 Traceback (most recent call last)",
      "\u001b[1;32m<ipython-input-15-7a1cd0f5a20c>\u001b[0m in \u001b[0;36m<module>\u001b[1;34m\u001b[0m\n\u001b[0;32m     10\u001b[0m \u001b[1;33m\u001b[0m\u001b[0m\n\u001b[0;32m     11\u001b[0m \u001b[1;31m# define the search\u001b[0m\u001b[1;33m\u001b[0m\u001b[1;33m\u001b[0m\u001b[1;33m\u001b[0m\u001b[0m\n\u001b[1;32m---> 12\u001b[1;33m search = BayesSearchCV(estimator=reg(), search_spaces=params, n_jobs=-1,\n\u001b[0m\u001b[0;32m     13\u001b[0m \u001b[1;31m#                        cv=cv\u001b[0m\u001b[1;33m\u001b[0m\u001b[1;33m\u001b[0m\u001b[1;33m\u001b[0m\u001b[0m\n\u001b[0;32m     14\u001b[0m                       )\n",
      "\u001b[1;31mTypeError\u001b[0m: 'MyOwnRegressor' object is not callable"
     ]
    }
   ],
   "source": [
    "from skopt import BayesSearchCV\n",
    "from sklearn.model_selection import RepeatedStratifiedKFold\n",
    "\n",
    "# define search space\n",
    "params = dict()\n",
    "params['c'] = [1,2,3,4]\n",
    "\n",
    "# define evaluation\n",
    "cv = RepeatedStratifiedKFold(n_splits=10, n_repeats=3, random_state=1)\n",
    "\n",
    "# define the search\n",
    "search = BayesSearchCV(estimator=reg(), search_spaces=params, n_jobs=-1,\n",
    "#                        cv=cv\n",
    "                      )\n",
    "\n",
    "# perform the search\n",
    "search.fit(X, y)\n",
    "# report the best result\n",
    "print(search.best_score_)\n",
    "print(search.best_params_)"
   ]
  },
  {
   "cell_type": "code",
   "execution_count": 3,
   "metadata": {},
   "outputs": [
    {
     "data": {
      "text/plain": [
       "BayesSearchCV(estimator=SVR(), n_iter=2, n_jobs=-1,\n",
       "              search_spaces={'C': (1e-06, 100.0, 'log-uniform'),\n",
       "                             'degree': (1, 5),\n",
       "                             'gamma': (1e-06, 100.0, 'log-uniform'),\n",
       "                             'kernel': ['linear', 'sigmoid']})"
      ]
     },
     "execution_count": 3,
     "metadata": {},
     "output_type": "execute_result"
    }
   ],
   "source": [
    "from pandas import read_csv\n",
    "from sklearn.model_selection import cross_val_score\n",
    "from sklearn.svm import SVR\n",
    "from sklearn.model_selection import RepeatedStratifiedKFold\n",
    "from skopt import BayesSearchCV\n",
    "\n",
    "params = dict()\n",
    "params['C'] = (1e-6, 100.0, 'log-uniform')\n",
    "params['gamma'] = (1e-6, 100.0, 'log-uniform')\n",
    "params['degree'] = (1,5)\n",
    "params['kernel'] = ['linear', 'sigmoid']\n",
    "# define evaluation\n",
    "# cv = RepeatedStratifiedKFold(n_splits=10, n_repeats=3, random_state=1)\n",
    "# define the search\n",
    "search = BayesSearchCV(estimator=SVR(), n_iter=2, search_spaces=params, n_jobs=-1,\n",
    "#                        cv=cv\n",
    "                      )\n",
    "# perform the search\n",
    "search.fit(X, y)"
   ]
  },
  {
   "cell_type": "code",
   "execution_count": 4,
   "metadata": {},
   "outputs": [
    {
     "data": {
      "text/plain": [
       "0.5007020255538938"
      ]
     },
     "execution_count": 4,
     "metadata": {},
     "output_type": "execute_result"
    }
   ],
   "source": [
    "search."
   ]
  },
  {
   "cell_type": "code",
   "execution_count": null,
   "metadata": {},
   "outputs": [],
   "source": [
    "import BR_ML as br\n",
    "import pandas as pd"
   ]
  },
  {
   "cell_type": "code",
   "execution_count": null,
   "metadata": {},
   "outputs": [],
   "source": [
    "print(br.__version__)"
   ]
  },
  {
   "cell_type": "code",
   "execution_count": null,
   "metadata": {},
   "outputs": [],
   "source": [
    "pequim = pd.read_csv('datasets/BeijingPM20100101_20151231.csv')\n",
    "pequim.columns"
   ]
  },
  {
   "cell_type": "code",
   "execution_count": null,
   "metadata": {},
   "outputs": [],
   "source": [
    "black_friday = pd.read_csv('datasets/BlackFriday.csv')\n",
    "black_friday.columns                           "
   ]
  },
  {
   "cell_type": "code",
   "execution_count": null,
   "metadata": {},
   "outputs": [],
   "source": [
    "fb = pd.read_csv('datasets/FB.csv')\n",
    "fb.columns"
   ]
  },
  {
   "cell_type": "code",
   "execution_count": null,
   "metadata": {},
   "outputs": [],
   "source": [
    "fb['Date'] = pd.to_datetime(fb['Date'])\n",
    "fb = fb.set_index('Date')"
   ]
  },
  {
   "cell_type": "code",
   "execution_count": null,
   "metadata": {},
   "outputs": [],
   "source": [
    "fb_outliers = br.outlier.outlier_detection(fb, 'LOCI')\n",
    "fb_outliers.head()"
   ]
  },
  {
   "cell_type": "code",
   "execution_count": null,
   "metadata": {},
   "outputs": [],
   "source": [
    "import matplotlib.pyplot as plt\n",
    "\n",
    "plt.plot(fb_outliers['Volume'])\n",
    "plt.plot(fb_outliers[fb_outliers['Volume_outlier_flag'] == 1]['Volume'], 'o')"
   ]
  },
  {
   "cell_type": "code",
   "execution_count": null,
   "metadata": {},
   "outputs": [],
   "source": [
    "fb_sem_outliers = br.outlier.outlier_treatment(fb_outliers, method='mean')"
   ]
  },
  {
   "cell_type": "code",
   "execution_count": null,
   "metadata": {},
   "outputs": [],
   "source": [
    "plt.plot(fb['Volume'])\n",
    "plt.plot(fb_sem_outliers['Volume'])"
   ]
  },
  {
   "cell_type": "code",
   "execution_count": null,
   "metadata": {},
   "outputs": [],
   "source": []
  },
  {
   "cell_type": "code",
   "execution_count": null,
   "metadata": {},
   "outputs": [],
   "source": [
    "pequim_sem_outliers.head()"
   ]
  },
  {
   "cell_type": "code",
   "execution_count": null,
   "metadata": {},
   "outputs": [],
   "source": [
    "pequim_outliers[(pequim_outliers['precipitation_outlier_flag'] == 1) | \n",
    "                (pequim_outliers['Iprec_outlier_flag'] == 1)].shape"
   ]
  },
  {
   "cell_type": "code",
   "execution_count": null,
   "metadata": {},
   "outputs": [],
   "source": [
    "pequim_outliers.shape[0] - pequim_sem_outliers.shape[0]"
   ]
  },
  {
   "cell_type": "code",
   "execution_count": null,
   "metadata": {},
   "outputs": [],
   "source": [
    "from statsmodels.tsa.statespace.sarimax import SARIMAX\n",
    "from sklearn.model_selection import RepeatedStratifiedKFold\n",
    "from skopt import BayesSearchCV"
   ]
  },
  {
   "cell_type": "code",
   "execution_count": null,
   "metadata": {},
   "outputs": [],
   "source": [
    "X = fb.iloc[:, :-1]\n",
    "y = fb.iloc[:, -1]"
   ]
  },
  {
   "cell_type": "code",
   "execution_count": null,
   "metadata": {},
   "outputs": [],
   "source": [
    "# define search space\n",
    "params = dict()\n",
    "params['order'] = [(1,0,0), (0,1,0), ((0,0,1))]\n",
    "params['seasonal_order'] = [(1,0,0,0), (0,1,0,0), ((0,0,1,0))]"
   ]
  },
  {
   "cell_type": "code",
   "execution_count": null,
   "metadata": {},
   "outputs": [],
   "source": [
    "# define evaluation\n",
    "cv = RepeatedStratifiedKFold(n_splits=10, n_repeats=3, random_state=1)"
   ]
  },
  {
   "cell_type": "code",
   "execution_count": null,
   "metadata": {},
   "outputs": [],
   "source": [
    "# define the search\n",
    "search = BayesSearchCV(estimator=SARIMAX(y.values), search_spaces=params, n_jobs=-1, cv=cv)"
   ]
  },
  {
   "cell_type": "code",
   "execution_count": null,
   "metadata": {},
   "outputs": [],
   "source": [
    "search.fit()"
   ]
  },
  {
   "cell_type": "code",
   "execution_count": null,
   "metadata": {},
   "outputs": [],
   "source": [
    "\n",
    "# perform the search\n",
    "search.fit(X, y)\n",
    "# report the best result\n",
    "print(search.best_score_)\n",
    "print(search.best_params_)"
   ]
  }
 ],
 "metadata": {
  "kernelspec": {
   "display_name": "Python 3",
   "language": "python",
   "name": "python3"
  },
  "language_info": {
   "codemirror_mode": {
    "name": "ipython",
    "version": 3
   },
   "file_extension": ".py",
   "mimetype": "text/x-python",
   "name": "python",
   "nbconvert_exporter": "python",
   "pygments_lexer": "ipython3",
   "version": "3.8.5"
  }
 },
 "nbformat": 4,
 "nbformat_minor": 4
}
