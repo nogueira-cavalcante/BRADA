{
 "cells": [
  {
   "cell_type": "code",
   "execution_count": 1,
   "metadata": {},
   "outputs": [],
   "source": [
    "import BR_ML as brada\n",
    "import pandas as pd"
   ]
  },
  {
   "cell_type": "code",
   "execution_count": 2,
   "metadata": {},
   "outputs": [
    {
     "name": "stdout",
     "output_type": "stream",
     "text": [
      "0.0.1\n"
     ]
    }
   ],
   "source": [
    "print(brada.__version__)"
   ]
  },
  {
   "cell_type": "code",
   "execution_count": 3,
   "metadata": {},
   "outputs": [
    {
     "data": {
      "text/plain": [
       "Index(['No', 'year', 'month', 'day', 'hour', 'season', 'PM_Dongsi',\n",
       "       'PM_Dongsihuan', 'PM_Nongzhanguan', 'PM_US Post', 'DEWP', 'HUMI',\n",
       "       'PRES', 'TEMP', 'cbwd', 'Iws', 'precipitation', 'Iprec'],\n",
       "      dtype='object')"
      ]
     },
     "execution_count": 3,
     "metadata": {},
     "output_type": "execute_result"
    }
   ],
   "source": [
    "pequim = pd.read_csv('datasets/BeijingPM20100101_20151231.csv')\n",
    "pequim.dropna(inplace=True)\n",
    "\n",
    "pequim['date'] = pequim['year'].astype(str) + '-' + pequim['month'].astype(str) + '-' + pequim['day'].astype(str)\n",
    "pequim.drop_duplicates(subset='date', inplace=True)\n",
    "pequim['date'] = pd.to_datetime(pequim['date'])\n",
    "pequim.sort_values('date', inplace=True)\n",
    "pequim.set_index('date', inplace=True)\n",
    "pequim.index = pd.DatetimeIndex(pequim.index).to_period('D')\n",
    "\n",
    "pequim.columns"
   ]
  },
  {
   "cell_type": "code",
   "execution_count": 4,
   "metadata": {},
   "outputs": [
    {
     "data": {
      "text/plain": [
       "Index(['User_ID', 'Product_ID', 'Gender', 'Age', 'Occupation', 'City_Category',\n",
       "       'Stay_In_Current_City_Years', 'Marital_Status', 'Product_Category_1',\n",
       "       'Product_Category_2', 'Product_Category_3', 'Purchase'],\n",
       "      dtype='object')"
      ]
     },
     "execution_count": 4,
     "metadata": {},
     "output_type": "execute_result"
    }
   ],
   "source": [
    "black_friday = pd.read_csv('datasets/BlackFriday.csv')\n",
    "black_friday.columns                           "
   ]
  },
  {
   "cell_type": "code",
   "execution_count": 5,
   "metadata": {},
   "outputs": [
    {
     "data": {
      "text/plain": [
       "Index(['Date', 'Open', 'High', 'Low', 'Close', 'Adj Close', 'Volume'], dtype='object')"
      ]
     },
     "execution_count": 5,
     "metadata": {},
     "output_type": "execute_result"
    }
   ],
   "source": [
    "fb = pd.read_csv('datasets/FB.csv')\n",
    "fb.columns"
   ]
  },
  {
   "cell_type": "code",
   "execution_count": 6,
   "metadata": {},
   "outputs": [],
   "source": [
    "fb['Date'] = pd.to_datetime(fb['Date'])\n",
    "fb = fb.set_index('Date')"
   ]
  },
  {
   "cell_type": "code",
   "execution_count": null,
   "metadata": {},
   "outputs": [],
   "source": []
  },
  {
   "cell_type": "code",
   "execution_count": 7,
   "metadata": {},
   "outputs": [],
   "source": [
    "X_train, y_train, X_test, y_test = brada.train_test_split.separacao_dados_treino_teste(df=pequim,\n",
    "                                                    sep_type='time_series',\n",
    "                                                    target_col='PRES',\n",
    "                                                    features_cols=['TEMP'],\n",
    "                                                    cat_cont_var_bins=5,\n",
    "                                                    test_size=0.2,\n",
    "                                                    random_state=10,)"
   ]
  },
  {
   "cell_type": "code",
   "execution_count": 8,
   "metadata": {},
   "outputs": [
    {
     "name": "stdout",
     "output_type": "stream",
     "text": [
      "Validação dos parâmetros informados...\n",
      "Validação concluída com sucesso!\n",
      "\n",
      "\n",
      "Modelo em execução: sarimax\n",
      "Tempo total de execução: 0.24 minutos.\n",
      "\n",
      "\n"
     ]
    }
   ],
   "source": [
    "kwargs_sarimax=dict()\n",
    "kwargs_sarimax['p'] = [1,2]\n",
    "kwargs_sarimax['d'] = [0,1]\n",
    "kwargs_sarimax['q'] = [0,1]\n",
    "kwargs_sarimax['P'] = [0,1]\n",
    "kwargs_sarimax['D'] = [0,1]\n",
    "kwargs_sarimax['Q'] = [0,1]\n",
    "kwargs_sarimax['s'] = [0,12]\n",
    "kwargs_sarimax['trend'] = [None, 'n']\n",
    "\n",
    "best_model = brada.automl(X_train,\n",
    "                          y_train,\n",
    "                          training_type='time_series',\n",
    "                          info_model_matrix=[['sarimax', kwargs_sarimax, 10]],\n",
    "                          cv=3,\n",
    "                          validation_size=0.1,\n",
    "                          random_state=10,)"
   ]
  },
  {
   "cell_type": "code",
   "execution_count": 9,
   "metadata": {},
   "outputs": [
    {
     "data": {
      "text/plain": [
       "-4.771511543742962"
      ]
     },
     "execution_count": 9,
     "metadata": {},
     "output_type": "execute_result"
    }
   ],
   "source": [
    "best_model[0].best_score_"
   ]
  },
  {
   "cell_type": "code",
   "execution_count": 10,
   "metadata": {},
   "outputs": [
    {
     "data": {
      "text/plain": [
       "4.491311825188687"
      ]
     },
     "execution_count": 10,
     "metadata": {},
     "output_type": "execute_result"
    }
   ],
   "source": [
    "from sklearn.metrics import mean_squared_error, mean_absolute_error\n",
    "\n",
    "mean_absolute_error(best_model[0].predict(X_train), y_train)"
   ]
  },
  {
   "cell_type": "code",
   "execution_count": 11,
   "metadata": {},
   "outputs": [
    {
     "data": {
      "text/plain": [
       "make_scorer(mean_absolute_error, greater_is_better=False)"
      ]
     },
     "execution_count": 11,
     "metadata": {},
     "output_type": "execute_result"
    }
   ],
   "source": [
    "best_model[0].scorer_"
   ]
  },
  {
   "cell_type": "code",
   "execution_count": 12,
   "metadata": {},
   "outputs": [
    {
     "data": {
      "text/plain": [
       "2"
      ]
     },
     "execution_count": 12,
     "metadata": {},
     "output_type": "execute_result"
    }
   ],
   "source": [
    "best_model[0].n_splits_"
   ]
  },
  {
   "cell_type": "code",
   "execution_count": 13,
   "metadata": {},
   "outputs": [
    {
     "data": {
      "text/plain": [
       "[<matplotlib.lines.Line2D at 0x182aba18c10>]"
      ]
     },
     "execution_count": 13,
     "metadata": {},
     "output_type": "execute_result"
    },
    {
     "data": {
      "image/png": "[encoded data removed]",
      "text/plain": [
       "<Figure size 432x288 with 1 Axes>"
      ]
     },
     "metadata": {
      "needs_background": "light"
     },
     "output_type": "display_data"
    }
   ],
   "source": [
    "import matplotlib.pyplot as plt\n",
    "plt.plot(best_model[0].predict(X_train), y_train, '.')\n",
    "plt.plot([1000, 1040], [1000, 1040], '-')"
   ]
  },
  {
   "cell_type": "code",
   "execution_count": null,
   "metadata": {},
   "outputs": [],
   "source": [
    "import numpy as np\n",
    "p_values = [0, 1, 2, 4, 6, 8, 10]\n",
    "d_values = np.arange(0, 3)\n",
    "q_values = np.arange(0, 3)"
   ]
  },
  {
   "cell_type": "code",
   "execution_count": null,
   "metadata": {},
   "outputs": [],
   "source": [
    "d_values"
   ]
  },
  {
   "cell_type": "code",
   "execution_count": null,
   "metadata": {},
   "outputs": [],
   "source": [
    "kwargs_sarimax=dict()\n",
    "kwargs_sarimax['p'] = [1,2]\n",
    "kwargs_sarimax['d'] = [0]\n",
    "kwargs_sarimax['q'] = [0]\n",
    "kwargs_sarimax['P'] = [0]\n",
    "kwargs_sarimax['D'] = [0]\n",
    "kwargs_sarimax['Q'] = [0]\n",
    "kwargs_sarimax['s'] = [0]\n",
    "kwargs_sarimax['trend'] = ['n']\n",
    "\n",
    "est = brada.automl(X_train,\n",
    "                   y_train,\n",
    "                   training_type='time_series',\n",
    "                   validation_size=0.1,\n",
    "                   info_model_matrix=[['sarimax', kwargs_sarimax, 5]],\n",
    "                   random_state=10,)"
   ]
  },
  {
   "cell_type": "code",
   "execution_count": null,
   "metadata": {},
   "outputs": [],
   "source": [
    "from BR_ML.automl.custom_models.sarimax import Sarimax"
   ]
  },
  {
   "cell_type": "code",
   "execution_count": null,
   "metadata": {},
   "outputs": [],
   "source": [
    "reg = Sarimax(p=1,\n",
    "    d=1,\n",
    "    q=1,\n",
    "    P=0,\n",
    "    D=0,\n",
    "    Q=0,\n",
    "    s=0,\n",
    "    trend='n')"
   ]
  },
  {
   "cell_type": "code",
   "execution_count": null,
   "metadata": {},
   "outputs": [],
   "source": [
    "reg.fit(X_train, y_train)"
   ]
  },
  {
   "cell_type": "code",
   "execution_count": null,
   "metadata": {},
   "outputs": [],
   "source": [
    "reg.predict(X_train).plot()\n",
    "y_train.plot()\n"
   ]
  },
  {
   "cell_type": "code",
   "execution_count": null,
   "metadata": {},
   "outputs": [],
   "source": [
    "import numpy as np\n",
    "from sklearn.base import BaseEstimator\n",
    "from sklearn.base import RegressorMixin\n",
    "from statsmodels.tsa.statespace.sarimax import SARIMAX\n",
    "\n",
    "\n",
    "class Sarimax(BaseEstimator, RegressorMixin):\n",
    "\n",
    "    \"\"\"\n",
    "    Classe que permite deixar o método statmodels SARIMAX no formato de um\n",
    "    estimador sklearn.\n",
    "    \"\"\"\n",
    "\n",
    "    def __init__(self, p=1, d=0, q=0, P=0, D=0, Q=0, s=0, trend=None,\n",
    "                 me=False, tvr=False, mle_r=True, sd=False,\n",
    "                 es=True, ei=True,\n",
    "                 hr=False, cs=False,\n",
    "                 to=1, ued=False,\n",
    "                 dates=None, freq=None, missing='none', kwargs={}):\n",
    "\n",
    "        \"\"\"\n",
    "        Inicialização da classe.\n",
    "        \"\"\"\n",
    "\n",
    "        self.p = p\n",
    "        self.d = d\n",
    "        self.q = q\n",
    "        self.P = P\n",
    "        self.D = D\n",
    "        self.Q = Q\n",
    "        self.s = s\n",
    "        self.trend = trend\n",
    "        self.me = me\n",
    "        self.tvr = tvr\n",
    "        self.mle_r = mle_r\n",
    "        self.sd = sd\n",
    "        self.es = es\n",
    "        self.ei = ei\n",
    "        self.hr = hr\n",
    "        self.cs = cs\n",
    "        self.to = to\n",
    "        self.ued = ued\n",
    "        self.dates = dates\n",
    "        self.freq = freq\n",
    "        self.missing = missing\n",
    "        self.kwargs = kwargs\n",
    "\n",
    "    def fit(self, X, y):\n",
    "        \"\"\"\n",
    "        Construção do modelo SARIMAX para um conjunto de treino (X, y).\n",
    "        Idealmente os índices devem estar no formato datetime. Por exmplo,\n",
    "        df.index = pd.DatetimeIndex(df.index).to_period(period).\n",
    "\n",
    "        Args:\n",
    "            X (pandas DataFrame): DataFrame contendo as exógenas.\n",
    "            y (pandas Series): Series contendo a endógena.\n",
    "\n",
    "        \"\"\"\n",
    "\n",
    "        order = (self.p, self.d, self.q)\n",
    "        seasonal_order = (self.P, self.D, self.Q, self.s)\n",
    "\n",
    "        print(order)\n",
    "        print(seasonal_order)\n",
    "        print(self.trend)\n",
    "        print(self.me)\n",
    "        print(self.tvr)\n",
    "\n",
    "        self.sarimax_model = SARIMAX(endog=y, exog=X, order=order,\n",
    "                                      seasonal_order=seasonal_order,\n",
    "                                      trend=self.trend,\n",
    "                                      measurement_error=self.me,\n",
    "                                      time_varying_regression=self.tvr,\n",
    "                                      mle_regression=self.mle_r,\n",
    "                                      simple_differencing=self.sd,\n",
    "                                      enforce_stationarity=self.es,\n",
    "                                      enforce_invertibility=self.ei,\n",
    "                                      hamilton_representation=self.hr,\n",
    "                                      concentrate_scale=self.cs,\n",
    "                                      trend_offset=self.to,\n",
    "                                      use_exact_diffuse=self.ued,\n",
    "                                      dates=self.dates,\n",
    "                                      freq=self.freq,\n",
    "                                      missing=self.missing,\n",
    "                                      kwargs=self.kwargs\n",
    "                                      )\n",
    "        self.sarimax_model_fit = self.sarimax_model.fit(disp=0)\n",
    "\n",
    "        return self\n",
    "\n",
    "    def predict(self, X):\n",
    "        \"\"\"\n",
    "        Previsão de regressão SARIMAX do target para a exógena X.\n",
    "\n",
    "        Args:\n",
    "            X (pandas DataFrame): DataFrame contendo as exógenas.\n",
    "\n",
    "        Return:\n",
    "            Previsão SARIMAX para a exógena de entrada X.\n",
    "\n",
    "        \"\"\"\n",
    "\n",
    "        y_pred = self.sarimax_model_fit.forecast(steps=len(X),\n",
    "                                                 exog=X,\n",
    "                                                 index=X.index)\n",
    "        self.y_pred = y_pred\n",
    "        y_pred = self._forecast_handling()\n",
    "\n",
    "        return y_pred\n",
    "\n",
    "    def _forecast_handling(self):\n",
    "        \"\"\"\n",
    "        Tratamento de previsões infinitos pelo SARIMAX. Esse valores são\n",
    "        substituídos por np.nan e logo em seguida é feita uma\n",
    "        interpolação linear para substituir os valores np.nan.\n",
    "\n",
    "        Return:\n",
    "            Retorna a previsão do SARIMAX tratada.\n",
    "\n",
    "        \"\"\"\n",
    "\n",
    "        y_pred_processed = self.y_pred\n",
    "        y_pred_processed.loc[y_pred_processed.isin([np.inf, -np.inf])] = np.nan\n",
    "        y_pred_processed = y_pred_processed.interpolate(method='linear')\n",
    "\n",
    "        return y_pred_processed\n"
   ]
  },
  {
   "cell_type": "code",
   "execution_count": null,
   "metadata": {},
   "outputs": [],
   "source": [
    "from skopt import BayesSearchCV\n",
    "from sklearn.model_selection import GridSearchCV\n",
    "from sklearn.metrics import make_scorer\n",
    "\n",
    "from sklearn.model_selection import TimeSeriesSplit\n",
    "\n",
    "max_train_size = int(X_train.shape[0] * (1 - 0.2))\n",
    "cv = TimeSeriesSplit(n_splits=2,\n",
    "                     max_train_size=max_train_size\n",
    "                    )\n",
    "\n",
    "\n",
    "estimator = Sarimax()\n",
    "\n",
    "from sklearn.metrics import mean_squared_error\n",
    "scorer = make_scorer(mean_squared_error, greater_is_better=False)\n",
    "\n",
    "kwargs_sarimax=dict()\n",
    "kwargs_sarimax[\"p\"] = [1,2,3]\n",
    "kwargs_sarimax[\"d\"] = [0,1,2]\n",
    "kwargs_sarimax[\"q\"] = [0,1,2]\n",
    "kwargs_sarimax[\"P\"] = [0]\n",
    "kwargs_sarimax[\"D\"] = [0]\n",
    "kwargs_sarimax[\"Q\"] = [0]\n",
    "kwargs_sarimax[\"s\"] = [0]\n",
    "kwargs_sarimax['trend'] = [None, 'n']\n",
    "\n",
    "\n",
    "bayes_search = BayesSearchCV(estimator=estimator,\n",
    "                                     search_spaces=kwargs_sarimax,\n",
    "#                                      n_jobs=-1,\n",
    "                                     n_iter=10,\n",
    "                                     scoring=scorer,\n",
    "                                     verbose=1,\n",
    "                                     cv=cv,\n",
    "                                     random_state=10,\n",
    "                                     refit=True,\n",
    "                                     )\n",
    "\n",
    "bayes_search.fit(X=X_train, y=y_train)\n"
   ]
  },
  {
   "cell_type": "code",
   "execution_count": null,
   "metadata": {},
   "outputs": [],
   "source": [
    "bayes_search.best_params_"
   ]
  },
  {
   "cell_type": "code",
   "execution_count": null,
   "metadata": {},
   "outputs": [],
   "source": [
    "bayes_search.predict(X_train).plot()"
   ]
  },
  {
   "cell_type": "code",
   "execution_count": null,
   "metadata": {},
   "outputs": [],
   "source": [
    "y_train.plot()"
   ]
  },
  {
   "cell_type": "code",
   "execution_count": null,
   "metadata": {},
   "outputs": [],
   "source": []
  }
 ],
 "metadata": {
  "kernelspec": {
   "display_name": "Python 3",
   "language": "python",
   "name": "python3"
  },
  "language_info": {
   "codemirror_mode": {
    "name": "ipython",
    "version": 3
   },
   "file_extension": ".py",
   "mimetype": "text/x-python",
   "name": "python",
   "nbconvert_exporter": "python",
   "pygments_lexer": "ipython3",
   "version": "3.8.5"
  }
 },
 "nbformat": 4,
 "nbformat_minor": 4
}
