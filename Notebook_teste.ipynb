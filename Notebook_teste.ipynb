{
 "cells": [
  {
   "cell_type": "code",
   "execution_count": 1,
   "metadata": {},
   "outputs": [],
   "source": [
    "import BR_ML as brada\n",
    "import pandas as pd"
   ]
  },
  {
   "cell_type": "code",
   "execution_count": 2,
   "metadata": {},
   "outputs": [
    {
     "name": "stdout",
     "output_type": "stream",
     "text": [
      "0.0.1\n"
     ]
    }
   ],
   "source": [
    "print(brada.__version__)"
   ]
  },
  {
   "cell_type": "code",
   "execution_count": 3,
   "metadata": {},
   "outputs": [
    {
     "data": {
      "text/plain": [
       "Index(['No', 'year', 'month', 'day', 'hour', 'season', 'PM_Dongsi',\n",
       "       'PM_Dongsihuan', 'PM_Nongzhanguan', 'PM_US Post', 'DEWP', 'HUMI',\n",
       "       'PRES', 'TEMP', 'cbwd', 'Iws', 'precipitation', 'Iprec'],\n",
       "      dtype='object')"
      ]
     },
     "execution_count": 3,
     "metadata": {},
     "output_type": "execute_result"
    }
   ],
   "source": [
    "pequim = pd.read_csv('datasets/BeijingPM20100101_20151231.csv')\n",
    "pequim.dropna(inplace=True)\n",
    "\n",
    "pequim['date'] = pequim['year'].astype(str) + '-' + pequim['month'].astype(str) + '-' + pequim['day'].astype(str)\n",
    "pequim.drop_duplicates(subset='date', inplace=True)\n",
    "pequim['date'] = pd.to_datetime(pequim['date'])\n",
    "pequim.sort_values('date', inplace=True)\n",
    "pequim.set_index('date', inplace=True)\n",
    "pequim.index = pd.DatetimeIndex(pequim.index).to_period('D')\n",
    "\n",
    "pequim.columns"
   ]
  },
  {
   "cell_type": "code",
   "execution_count": 4,
   "metadata": {},
   "outputs": [
    {
     "data": {
      "text/plain": [
       "Index(['User_ID', 'Product_ID', 'Gender', 'Age', 'Occupation', 'City_Category',\n",
       "       'Stay_In_Current_City_Years', 'Marital_Status', 'Product_Category_1',\n",
       "       'Product_Category_2', 'Product_Category_3', 'Purchase'],\n",
       "      dtype='object')"
      ]
     },
     "execution_count": 4,
     "metadata": {},
     "output_type": "execute_result"
    }
   ],
   "source": [
    "black_friday = pd.read_csv('datasets/BlackFriday.csv')\n",
    "black_friday.columns                           "
   ]
  },
  {
   "cell_type": "code",
   "execution_count": 5,
   "metadata": {},
   "outputs": [
    {
     "data": {
      "text/plain": [
       "Index(['Date', 'Open', 'High', 'Low', 'Close', 'Adj Close', 'Volume'], dtype='object')"
      ]
     },
     "execution_count": 5,
     "metadata": {},
     "output_type": "execute_result"
    }
   ],
   "source": [
    "fb = pd.read_csv('datasets/FB.csv')\n",
    "fb.columns"
   ]
  },
  {
   "cell_type": "code",
   "execution_count": 6,
   "metadata": {},
   "outputs": [],
   "source": [
    "fb['Date'] = pd.to_datetime(fb['Date'])\n",
    "fb = fb.set_index('Date')"
   ]
  },
  {
   "cell_type": "code",
   "execution_count": 7,
   "metadata": {},
   "outputs": [
    {
     "data": {
      "text/html": [
       "<div>\n",
       "<style scoped>\n",
       "    .dataframe tbody tr th:only-of-type {\n",
       "        vertical-align: middle;\n",
       "    }\n",
       "\n",
       "    .dataframe tbody tr th {\n",
       "        vertical-align: top;\n",
       "    }\n",
       "\n",
       "    .dataframe thead th {\n",
       "        text-align: right;\n",
       "    }\n",
       "</style>\n",
       "<table border=\"1\" class=\"dataframe\">\n",
       "  <thead>\n",
       "    <tr style=\"text-align: right;\">\n",
       "      <th></th>\n",
       "      <th>Open</th>\n",
       "      <th>High</th>\n",
       "      <th>Low</th>\n",
       "      <th>Close</th>\n",
       "      <th>Adj Close</th>\n",
       "      <th>Volume</th>\n",
       "    </tr>\n",
       "    <tr>\n",
       "      <th>Date</th>\n",
       "      <th></th>\n",
       "      <th></th>\n",
       "      <th></th>\n",
       "      <th></th>\n",
       "      <th></th>\n",
       "      <th></th>\n",
       "    </tr>\n",
       "  </thead>\n",
       "  <tbody>\n",
       "    <tr>\n",
       "      <th>2015-11-16</th>\n",
       "      <td>106.839996</td>\n",
       "      <td>107.870003</td>\n",
       "      <td>106.620003</td>\n",
       "      <td>107.320000</td>\n",
       "      <td>107.320000</td>\n",
       "      <td>22129600</td>\n",
       "    </tr>\n",
       "    <tr>\n",
       "      <th>2015-11-23</th>\n",
       "      <td>107.190002</td>\n",
       "      <td>107.470001</td>\n",
       "      <td>104.389999</td>\n",
       "      <td>105.449997</td>\n",
       "      <td>105.449997</td>\n",
       "      <td>64538400</td>\n",
       "    </tr>\n",
       "    <tr>\n",
       "      <th>2015-11-30</th>\n",
       "      <td>105.839996</td>\n",
       "      <td>107.919998</td>\n",
       "      <td>103.349998</td>\n",
       "      <td>106.180000</td>\n",
       "      <td>106.180000</td>\n",
       "      <td>112055400</td>\n",
       "    </tr>\n",
       "    <tr>\n",
       "      <th>2015-12-07</th>\n",
       "      <td>106.480003</td>\n",
       "      <td>106.910004</td>\n",
       "      <td>101.910004</td>\n",
       "      <td>102.120003</td>\n",
       "      <td>102.120003</td>\n",
       "      <td>103276000</td>\n",
       "    </tr>\n",
       "    <tr>\n",
       "      <th>2015-12-14</th>\n",
       "      <td>102.290001</td>\n",
       "      <td>107.750000</td>\n",
       "      <td>101.459999</td>\n",
       "      <td>104.040001</td>\n",
       "      <td>104.040001</td>\n",
       "      <td>126762800</td>\n",
       "    </tr>\n",
       "  </tbody>\n",
       "</table>\n",
       "</div>"
      ],
      "text/plain": [
       "                  Open        High         Low       Close   Adj Close  \\\n",
       "Date                                                                     \n",
       "2015-11-16  106.839996  107.870003  106.620003  107.320000  107.320000   \n",
       "2015-11-23  107.190002  107.470001  104.389999  105.449997  105.449997   \n",
       "2015-11-30  105.839996  107.919998  103.349998  106.180000  106.180000   \n",
       "2015-12-07  106.480003  106.910004  101.910004  102.120003  102.120003   \n",
       "2015-12-14  102.290001  107.750000  101.459999  104.040001  104.040001   \n",
       "\n",
       "               Volume  \n",
       "Date                   \n",
       "2015-11-16   22129600  \n",
       "2015-11-23   64538400  \n",
       "2015-11-30  112055400  \n",
       "2015-12-07  103276000  \n",
       "2015-12-14  126762800  "
      ]
     },
     "execution_count": 7,
     "metadata": {},
     "output_type": "execute_result"
    }
   ],
   "source": [
    "fb.head()"
   ]
  },
  {
   "cell_type": "code",
   "execution_count": 9,
   "metadata": {},
   "outputs": [
    {
     "data": {
      "text/plain": [
       "<AxesSubplot:>"
      ]
     },
     "execution_count": 9,
     "metadata": {},
     "output_type": "execute_result"
    },
    {
     "data": {
      "image/png": "[encoded data removed]",
      "text/plain": [
       "<Figure size 432x288 with 1 Axes>"
      ]
     },
     "metadata": {
      "needs_background": "light"
     },
     "output_type": "display_data"
    }
   ],
   "source": [
    "fb['Volume'].hist()"
   ]
  },
  {
   "cell_type": "code",
   "execution_count": 33,
   "metadata": {},
   "outputs": [],
   "source": [
    "a = pd.cut(fb['Volume'], bins=5)"
   ]
  },
  {
   "cell_type": "code",
   "execution_count": 34,
   "metadata": {},
   "outputs": [
    {
     "data": {
      "text/plain": [
       "Date\n",
       "2015-11-16    (16456464.116, 103901892.8]\n",
       "2015-11-23    (16456464.116, 103901892.8]\n",
       "2015-11-30     (103901892.8, 190912269.6]\n",
       "2015-12-07    (16456464.116, 103901892.8]\n",
       "2015-12-14     (103901892.8, 190912269.6]\n",
       "                         ...             \n",
       "2020-10-26     (103901892.8, 190912269.6]\n",
       "2020-11-02     (103901892.8, 190912269.6]\n",
       "2020-11-09    (16456464.116, 103901892.8]\n",
       "2020-11-16    (16456464.116, 103901892.8]\n",
       "2020-11-20    (16456464.116, 103901892.8]\n",
       "Name: Volume, Length: 263, dtype: category\n",
       "Categories (5, interval[float64]): [(16456464.116, 103901892.8] < (103901892.8, 190912269.6] < (190912269.6, 277922646.4] < (277922646.4, 364933023.2] < (364933023.2, 451943400.0]]"
      ]
     },
     "execution_count": 34,
     "metadata": {},
     "output_type": "execute_result"
    }
   ],
   "source": [
    "a"
   ]
  },
  {
   "cell_type": "code",
   "execution_count": 36,
   "metadata": {},
   "outputs": [
    {
     "data": {
      "text/plain": [
       "Date\n",
       "2015-11-16    6.017918e+07\n",
       "2015-11-23    6.017918e+07\n",
       "2015-11-30    1.474071e+08\n",
       "2015-12-07    6.017918e+07\n",
       "2015-12-14    1.474071e+08\n",
       "                  ...     \n",
       "2020-10-26    1.474071e+08\n",
       "2020-11-02    1.474071e+08\n",
       "2020-11-09    6.017918e+07\n",
       "2020-11-16    6.017918e+07\n",
       "2020-11-20    6.017918e+07\n",
       "Name: Volume, Length: 263, dtype: category\n",
       "Categories (5, float64): [6.017918e+07 < 1.474071e+08 < 2.344175e+08 < 3.214278e+08 < 4.084382e+08]"
      ]
     },
     "execution_count": 36,
     "metadata": {},
     "output_type": "execute_result"
    }
   ],
   "source": [
    "import numpy as np\n",
    "a.apply(lambda x: np.mean([x.left, x.right]))"
   ]
  },
  {
   "cell_type": "code",
   "execution_count": 37,
   "metadata": {},
   "outputs": [],
   "source": [
    "def continuous_to_categorical(df, continuos_columns=[], bins=5):\n",
    "    \n",
    "    import pandas as pd\n",
    "    \n",
    "    df_temp = df.copy()\n",
    "    \n",
    "    if len(continuos_columns) == 0:\n",
    "        continuos_columns = df_temp.columns\n",
    "    \n",
    "    for col in continuos_columns:\n",
    "        \n",
    "        cat_col = pd.cut(df_temp[col], bins=bins)\n",
    "        cat_col = cat_col.apply(lambda x: np.mean([x.left, x.right]))\n",
    "        new_col_name = col + '_categorical'\n",
    "        df_temp.loc[:, new_col_name] = cat_col\n",
    "        \n",
    "    return df_temp"
   ]
  },
  {
   "cell_type": "code",
   "execution_count": 43,
   "metadata": {},
   "outputs": [],
   "source": [
    "df_temp = continuous_to_categorical(fb, bins=10)"
   ]
  },
  {
   "cell_type": "code",
   "execution_count": 49,
   "metadata": {},
   "outputs": [
    {
     "data": {
      "text/plain": [
       "184.38049999999998    65\n",
       "124.7735              44\n",
       "164.5115              39\n",
       "144.64249999999998    34\n",
       "204.2495              25\n",
       "104.805               25\n",
       "263.8565              11\n",
       "224.11849999999998     9\n",
       "243.9875               6\n",
       "283.7255               5\n",
       "Name: Close_categorical, dtype: int64"
      ]
     },
     "execution_count": 49,
     "metadata": {},
     "output_type": "execute_result"
    }
   ],
   "source": [
    "df_temp['Close_categorical'].value_counts()"
   ]
  },
  {
   "cell_type": "code",
   "execution_count": 51,
   "metadata": {},
   "outputs": [
    {
     "data": {
      "text/plain": [
       "-294.312"
      ]
     },
     "execution_count": 51,
     "metadata": {},
     "output_type": "execute_result"
    }
   ],
   "source": [
    "(94*0.6*5.42)-600"
   ]
  }
 ],
 "metadata": {
  "kernelspec": {
   "display_name": "Python 3",
   "language": "python",
   "name": "python3"
  },
  "language_info": {
   "codemirror_mode": {
    "name": "ipython",
    "version": 3
   },
   "file_extension": ".py",
   "mimetype": "text/x-python",
   "name": "python",
   "nbconvert_exporter": "python",
   "pygments_lexer": "ipython3",
   "version": "3.8.5"
  }
 },
 "nbformat": 4,
 "nbformat_minor": 4
}
