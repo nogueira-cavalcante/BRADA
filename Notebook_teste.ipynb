{
 "cells": [
  {
   "cell_type": "code",
   "execution_count": 1,
   "metadata": {},
   "outputs": [],
   "source": [
    "import BR_ML as brada\n",
    "import pandas as pd"
   ]
  },
  {
   "cell_type": "code",
   "execution_count": 2,
   "metadata": {},
   "outputs": [
    {
     "name": "stdout",
     "output_type": "stream",
     "text": [
      "0.0.1\n"
     ]
    }
   ],
   "source": [
    "print(brada.__version__)"
   ]
  },
  {
   "cell_type": "code",
   "execution_count": 3,
   "metadata": {},
   "outputs": [
    {
     "data": {
      "text/plain": [
       "Index(['No', 'year', 'month', 'day', 'hour', 'season', 'PM_Dongsi',\n",
       "       'PM_Dongsihuan', 'PM_Nongzhanguan', 'PM_US Post', 'DEWP', 'HUMI',\n",
       "       'PRES', 'TEMP', 'cbwd', 'Iws', 'precipitation', 'Iprec'],\n",
       "      dtype='object')"
      ]
     },
     "execution_count": 3,
     "metadata": {},
     "output_type": "execute_result"
    }
   ],
   "source": [
    "pequim = pd.read_csv('datasets/BeijingPM20100101_20151231.csv')\n",
    "pequim.dropna(inplace=True)\n",
    "\n",
    "pequim['date'] = pequim['year'].astype(str) + '-' + pequim['month'].astype(str) + '-' + pequim['day'].astype(str)\n",
    "pequim.drop_duplicates(subset='date', inplace=True)\n",
    "pequim['date'] = pd.to_datetime(pequim['date'])\n",
    "pequim.sort_values('date', inplace=True)\n",
    "pequim.set_index('date', inplace=True)\n",
    "pequim.index = pd.DatetimeIndex(pequim.index).to_period('D')\n",
    "\n",
    "pequim.columns"
   ]
  },
  {
   "cell_type": "code",
   "execution_count": 4,
   "metadata": {},
   "outputs": [
    {
     "data": {
      "text/plain": [
       "Index(['User_ID', 'Product_ID', 'Gender', 'Age', 'Occupation', 'City_Category',\n",
       "       'Stay_In_Current_City_Years', 'Marital_Status', 'Product_Category_1',\n",
       "       'Product_Category_2', 'Product_Category_3', 'Purchase'],\n",
       "      dtype='object')"
      ]
     },
     "execution_count": 4,
     "metadata": {},
     "output_type": "execute_result"
    }
   ],
   "source": [
    "black_friday = pd.read_csv('datasets/BlackFriday.csv')\n",
    "black_friday.columns                           "
   ]
  },
  {
   "cell_type": "code",
   "execution_count": 5,
   "metadata": {},
   "outputs": [
    {
     "data": {
      "text/plain": [
       "Index(['Date', 'Open', 'High', 'Low', 'Close', 'Adj Close', 'Volume'], dtype='object')"
      ]
     },
     "execution_count": 5,
     "metadata": {},
     "output_type": "execute_result"
    }
   ],
   "source": [
    "fb = pd.read_csv('datasets/FB.csv')\n",
    "fb.columns"
   ]
  },
  {
   "cell_type": "code",
   "execution_count": 6,
   "metadata": {},
   "outputs": [],
   "source": [
    "fb['Date'] = pd.to_datetime(fb['Date'])\n",
    "fb = fb.set_index('Date')"
   ]
  },
  {
   "cell_type": "code",
   "execution_count": 7,
   "metadata": {},
   "outputs": [],
   "source": [
    "from sklearn.datasets import load_iris"
   ]
  },
  {
   "cell_type": "code",
   "execution_count": 8,
   "metadata": {},
   "outputs": [],
   "source": [
    "iris = load_iris(as_frame=True).frame"
   ]
  },
  {
   "cell_type": "code",
   "execution_count": 19,
   "metadata": {},
   "outputs": [],
   "source": [
    "iris = iris[iris['target'] != 2]"
   ]
  },
  {
   "cell_type": "code",
   "execution_count": 20,
   "metadata": {},
   "outputs": [
    {
     "data": {
      "text/plain": [
       "array([0, 1])"
      ]
     },
     "execution_count": 20,
     "metadata": {},
     "output_type": "execute_result"
    }
   ],
   "source": [
    "iris.target.unique()"
   ]
  },
  {
   "cell_type": "code",
   "execution_count": 21,
   "metadata": {},
   "outputs": [],
   "source": [
    "X_train, y_train, X_test, y_test = brada.train_test_split.separacao_dados_treino_teste(df=iris,\n",
    "                                                    sep_type='classification',\n",
    "                                                    target_col='target',\n",
    "#                                                     features_cols=['TEMP'],\n",
    "#                                                     cat_cont_var_bins=5,\n",
    "                                                    test_size=0.2,\n",
    "                                                    random_state=10,)"
   ]
  },
  {
   "cell_type": "code",
   "execution_count": 22,
   "metadata": {},
   "outputs": [
    {
     "name": "stdout",
     "output_type": "stream",
     "text": [
      "Validação dos parâmetros informados...\n",
      "Validação concluída com sucesso!\n",
      "\n",
      "\n",
      "Modelo em execução: logisticregression\n",
      "Modelo em execução: svc\n",
      "\n",
      "\n",
      "Tempo total de execução: 0.07 minutos.\n"
     ]
    }
   ],
   "source": [
    "df_best_model = brada.automl(X_train,\n",
    "                             y_train['target'].values,\n",
    "                             training_type='classification',\n",
    "                             info_model_matrix=[['logisticregression', dict(), 1],\n",
    "                                                ['svc', dict(), 1],\n",
    "                                               ],\n",
    "                             n_splits=2,\n",
    "                             validation_size=0.1,\n",
    "                             random_state=10)"
   ]
  },
  {
   "cell_type": "code",
   "execution_count": 23,
   "metadata": {},
   "outputs": [
    {
     "data": {
      "text/html": [
       "<div>\n",
       "<style scoped>\n",
       "    .dataframe tbody tr th:only-of-type {\n",
       "        vertical-align: middle;\n",
       "    }\n",
       "\n",
       "    .dataframe tbody tr th {\n",
       "        vertical-align: top;\n",
       "    }\n",
       "\n",
       "    .dataframe thead th {\n",
       "        text-align: right;\n",
       "    }\n",
       "</style>\n",
       "<table border=\"1\" class=\"dataframe\">\n",
       "  <thead>\n",
       "    <tr style=\"text-align: right;\">\n",
       "      <th></th>\n",
       "      <th>name_models</th>\n",
       "      <th>best_roc_auc_score</th>\n",
       "      <th>model</th>\n",
       "    </tr>\n",
       "  </thead>\n",
       "  <tbody>\n",
       "    <tr>\n",
       "      <th>0</th>\n",
       "      <td>logisticregression</td>\n",
       "      <td>1.0</td>\n",
       "      <td>BayesSearchCV(cv=StratifiedShuffleSplit(n_spli...</td>\n",
       "    </tr>\n",
       "    <tr>\n",
       "      <th>1</th>\n",
       "      <td>svc</td>\n",
       "      <td>1.0</td>\n",
       "      <td>BayesSearchCV(cv=StratifiedShuffleSplit(n_spli...</td>\n",
       "    </tr>\n",
       "  </tbody>\n",
       "</table>\n",
       "</div>"
      ],
      "text/plain": [
       "          name_models  best_roc_auc_score  \\\n",
       "0  logisticregression                 1.0   \n",
       "1                 svc                 1.0   \n",
       "\n",
       "                                               model  \n",
       "0  BayesSearchCV(cv=StratifiedShuffleSplit(n_spli...  \n",
       "1  BayesSearchCV(cv=StratifiedShuffleSplit(n_spli...  "
      ]
     },
     "execution_count": 23,
     "metadata": {},
     "output_type": "execute_result"
    }
   ],
   "source": [
    "df_best_model"
   ]
  },
  {
   "cell_type": "code",
   "execution_count": 13,
   "metadata": {},
   "outputs": [
    {
     "data": {
      "text/plain": [
       "[<matplotlib.lines.Line2D at 0x1fb5f2d9fd0>]"
      ]
     },
     "execution_count": 13,
     "metadata": {},
     "output_type": "execute_result"
    },
    {
     "data": {
      "image/png": "[encoded data removed]",
      "text/plain": [
       "<Figure size 432x288 with 1 Axes>"
      ]
     },
     "metadata": {
      "needs_background": "light"
     },
     "output_type": "display_data"
    }
   ],
   "source": [
    "import matplotlib.pyplot as plt\n",
    "plt.plot(df_best_model.iloc[0,2].predict(X_train), y_train, '.')\n",
    "plt.plot([1000, 1040], [1000, 1040], '-')"
   ]
  },
  {
   "cell_type": "code",
   "execution_count": 14,
   "metadata": {},
   "outputs": [
    {
     "ename": "NameError",
     "evalue": "name 'best_model' is not defined",
     "output_type": "error",
     "traceback": [
      "\u001b[1;31m---------------------------------------------------------------------------\u001b[0m",
      "\u001b[1;31mNameError\u001b[0m                                 Traceback (most recent call last)",
      "\u001b[1;32m<ipython-input-14-968a156605ec>\u001b[0m in \u001b[0;36m<module>\u001b[1;34m\u001b[0m\n\u001b[1;32m----> 1\u001b[1;33m \u001b[0mplt\u001b[0m\u001b[1;33m.\u001b[0m\u001b[0mplot\u001b[0m\u001b[1;33m(\u001b[0m\u001b[0mbest_model\u001b[0m\u001b[1;33m[\u001b[0m\u001b[1;36m0\u001b[0m\u001b[1;33m]\u001b[0m\u001b[1;33m.\u001b[0m\u001b[0mpredict\u001b[0m\u001b[1;33m(\u001b[0m\u001b[0mX_test\u001b[0m\u001b[1;33m)\u001b[0m\u001b[1;33m,\u001b[0m \u001b[0my_test\u001b[0m\u001b[1;33m,\u001b[0m \u001b[1;34m'.'\u001b[0m\u001b[1;33m)\u001b[0m\u001b[1;33m\u001b[0m\u001b[1;33m\u001b[0m\u001b[0m\n\u001b[0m\u001b[0;32m      2\u001b[0m \u001b[0mplt\u001b[0m\u001b[1;33m.\u001b[0m\u001b[0mplot\u001b[0m\u001b[1;33m(\u001b[0m\u001b[1;33m[\u001b[0m\u001b[1;36m1000\u001b[0m\u001b[1;33m,\u001b[0m \u001b[1;36m1040\u001b[0m\u001b[1;33m]\u001b[0m\u001b[1;33m,\u001b[0m \u001b[1;33m[\u001b[0m\u001b[1;36m1000\u001b[0m\u001b[1;33m,\u001b[0m \u001b[1;36m1040\u001b[0m\u001b[1;33m]\u001b[0m\u001b[1;33m,\u001b[0m \u001b[1;34m'-'\u001b[0m\u001b[1;33m)\u001b[0m\u001b[1;33m\u001b[0m\u001b[1;33m\u001b[0m\u001b[0m\n",
      "\u001b[1;31mNameError\u001b[0m: name 'best_model' is not defined"
     ]
    }
   ],
   "source": [
    "plt.plot(best_model[0].predict(X_test), y_test, '.')\n",
    "plt.plot([1000, 1040], [1000, 1040], '-')"
   ]
  },
  {
   "cell_type": "code",
   "execution_count": null,
   "metadata": {},
   "outputs": [],
   "source": [
    "import numpy as np\n",
    "p_values = [0, 1, 2, 4, 6, 8, 10]\n",
    "d_values = np.arange(0, 3)\n",
    "q_values = np.arange(0, 3)"
   ]
  },
  {
   "cell_type": "code",
   "execution_count": null,
   "metadata": {},
   "outputs": [],
   "source": [
    "d_values"
   ]
  },
  {
   "cell_type": "code",
   "execution_count": null,
   "metadata": {},
   "outputs": [],
   "source": [
    "kwargs_sarimax=dict()\n",
    "kwargs_sarimax['p'] = [1,2]\n",
    "kwargs_sarimax['d'] = [0]\n",
    "kwargs_sarimax['q'] = [0]\n",
    "kwargs_sarimax['P'] = [0]\n",
    "kwargs_sarimax['D'] = [0]\n",
    "kwargs_sarimax['Q'] = [0]\n",
    "kwargs_sarimax['s'] = [0]\n",
    "kwargs_sarimax['trend'] = ['n']\n",
    "\n",
    "est = brada.automl(X_train,\n",
    "                   y_train,\n",
    "                   training_type='time_series',\n",
    "                   validation_size=0.1,\n",
    "                   info_model_matrix=[['sarimax', kwargs_sarimax, 5]],\n",
    "                   random_state=10,)"
   ]
  },
  {
   "cell_type": "code",
   "execution_count": null,
   "metadata": {},
   "outputs": [],
   "source": [
    "from BR_ML.automl.custom_models.sarimax import Sarimax"
   ]
  },
  {
   "cell_type": "code",
   "execution_count": null,
   "metadata": {},
   "outputs": [],
   "source": [
    "reg = Sarimax(p=1,\n",
    "    d=1,\n",
    "    q=1,\n",
    "    P=0,\n",
    "    D=0,\n",
    "    Q=0,\n",
    "    s=0,\n",
    "    trend='n')"
   ]
  },
  {
   "cell_type": "code",
   "execution_count": null,
   "metadata": {},
   "outputs": [],
   "source": [
    "reg.fit(X_train, y_train)"
   ]
  },
  {
   "cell_type": "code",
   "execution_count": null,
   "metadata": {},
   "outputs": [],
   "source": [
    "reg.predict(X_train).plot()\n",
    "y_train.plot()\n"
   ]
  },
  {
   "cell_type": "code",
   "execution_count": null,
   "metadata": {},
   "outputs": [],
   "source": [
    "import numpy as np\n",
    "from sklearn.base import BaseEstimator\n",
    "from sklearn.base import RegressorMixin\n",
    "from statsmodels.tsa.statespace.sarimax import SARIMAX\n",
    "\n",
    "\n",
    "class Sarimax(BaseEstimator, RegressorMixin):\n",
    "\n",
    "    \"\"\"\n",
    "    Classe que permite deixar o método statmodels SARIMAX no formato de um\n",
    "    estimador sklearn.\n",
    "    \"\"\"\n",
    "\n",
    "    def __init__(self, p=1, d=0, q=0, P=0, D=0, Q=0, s=0, trend=None,\n",
    "                 me=False, tvr=False, mle_r=True, sd=False,\n",
    "                 es=True, ei=True,\n",
    "                 hr=False, cs=False,\n",
    "                 to=1, ued=False,\n",
    "                 dates=None, freq=None, missing='none', kwargs={}):\n",
    "\n",
    "        \"\"\"\n",
    "        Inicialização da classe.\n",
    "        \"\"\"\n",
    "\n",
    "        self.p = p\n",
    "        self.d = d\n",
    "        self.q = q\n",
    "        self.P = P\n",
    "        self.D = D\n",
    "        self.Q = Q\n",
    "        self.s = s\n",
    "        self.trend = trend\n",
    "        self.me = me\n",
    "        self.tvr = tvr\n",
    "        self.mle_r = mle_r\n",
    "        self.sd = sd\n",
    "        self.es = es\n",
    "        self.ei = ei\n",
    "        self.hr = hr\n",
    "        self.cs = cs\n",
    "        self.to = to\n",
    "        self.ued = ued\n",
    "        self.dates = dates\n",
    "        self.freq = freq\n",
    "        self.missing = missing\n",
    "        self.kwargs = kwargs\n",
    "\n",
    "    def fit(self, X, y):\n",
    "        \"\"\"\n",
    "        Construção do modelo SARIMAX para um conjunto de treino (X, y).\n",
    "        Idealmente os índices devem estar no formato datetime. Por exmplo,\n",
    "        df.index = pd.DatetimeIndex(df.index).to_period(period).\n",
    "\n",
    "        Args:\n",
    "            X (pandas DataFrame): DataFrame contendo as exógenas.\n",
    "            y (pandas Series): Series contendo a endógena.\n",
    "\n",
    "        \"\"\"\n",
    "\n",
    "        order = (self.p, self.d, self.q)\n",
    "        seasonal_order = (self.P, self.D, self.Q, self.s)\n",
    "\n",
    "        print(order)\n",
    "        print(seasonal_order)\n",
    "        print(self.trend)\n",
    "        print(self.me)\n",
    "        print(self.tvr)\n",
    "\n",
    "        self.sarimax_model = SARIMAX(endog=y, exog=X, order=order,\n",
    "                                      seasonal_order=seasonal_order,\n",
    "                                      trend=self.trend,\n",
    "                                      measurement_error=self.me,\n",
    "                                      time_varying_regression=self.tvr,\n",
    "                                      mle_regression=self.mle_r,\n",
    "                                      simple_differencing=self.sd,\n",
    "                                      enforce_stationarity=self.es,\n",
    "                                      enforce_invertibility=self.ei,\n",
    "                                      hamilton_representation=self.hr,\n",
    "                                      concentrate_scale=self.cs,\n",
    "                                      trend_offset=self.to,\n",
    "                                      use_exact_diffuse=self.ued,\n",
    "                                      dates=self.dates,\n",
    "                                      freq=self.freq,\n",
    "                                      missing=self.missing,\n",
    "                                      kwargs=self.kwargs\n",
    "                                      )\n",
    "        self.sarimax_model_fit = self.sarimax_model.fit(disp=0)\n",
    "\n",
    "        return self\n",
    "\n",
    "    def predict(self, X):\n",
    "        \"\"\"\n",
    "        Previsão de regressão SARIMAX do target para a exógena X.\n",
    "\n",
    "        Args:\n",
    "            X (pandas DataFrame): DataFrame contendo as exógenas.\n",
    "\n",
    "        Return:\n",
    "            Previsão SARIMAX para a exógena de entrada X.\n",
    "\n",
    "        \"\"\"\n",
    "\n",
    "        y_pred = self.sarimax_model_fit.forecast(steps=len(X),\n",
    "                                                 exog=X,\n",
    "                                                 index=X.index)\n",
    "        self.y_pred = y_pred\n",
    "        y_pred = self._forecast_handling()\n",
    "\n",
    "        return y_pred\n",
    "\n",
    "    def _forecast_handling(self):\n",
    "        \"\"\"\n",
    "        Tratamento de previsões infinitos pelo SARIMAX. Esse valores são\n",
    "        substituídos por np.nan e logo em seguida é feita uma\n",
    "        interpolação linear para substituir os valores np.nan.\n",
    "\n",
    "        Return:\n",
    "            Retorna a previsão do SARIMAX tratada.\n",
    "\n",
    "        \"\"\"\n",
    "\n",
    "        y_pred_processed = self.y_pred\n",
    "        y_pred_processed.loc[y_pred_processed.isin([np.inf, -np.inf])] = np.nan\n",
    "        y_pred_processed = y_pred_processed.interpolate(method='linear')\n",
    "\n",
    "        return y_pred_processed\n"
   ]
  },
  {
   "cell_type": "code",
   "execution_count": null,
   "metadata": {},
   "outputs": [],
   "source": [
    "from skopt import BayesSearchCV\n",
    "from sklearn.model_selection import GridSearchCV\n",
    "from sklearn.metrics import make_scorer\n",
    "\n",
    "from sklearn.model_selection import TimeSeriesSplit\n",
    "\n",
    "max_train_size = int(X_train.shape[0] * (1 - 0.2))\n",
    "cv = TimeSeriesSplit(n_splits=2,\n",
    "                     max_train_size=max_train_size\n",
    "                    )\n",
    "\n",
    "\n",
    "estimator = Sarimax()\n",
    "\n",
    "from sklearn.metrics import mean_squared_error\n",
    "scorer = make_scorer(mean_squared_error, greater_is_better=False)\n",
    "\n",
    "kwargs_sarimax=dict()\n",
    "kwargs_sarimax[\"p\"] = [1,2,3]\n",
    "kwargs_sarimax[\"d\"] = [0,1,2]\n",
    "kwargs_sarimax[\"q\"] = [0,1,2]\n",
    "kwargs_sarimax[\"P\"] = [0]\n",
    "kwargs_sarimax[\"D\"] = [0]\n",
    "kwargs_sarimax[\"Q\"] = [0]\n",
    "kwargs_sarimax[\"s\"] = [0]\n",
    "kwargs_sarimax['trend'] = [None, 'n']\n",
    "\n",
    "\n",
    "bayes_search = BayesSearchCV(estimator=estimator,\n",
    "                                     search_spaces=kwargs_sarimax,\n",
    "#                                      n_jobs=-1,\n",
    "                                     n_iter=10,\n",
    "                                     scoring=scorer,\n",
    "                                     verbose=1,\n",
    "                                     cv=cv,\n",
    "                                     random_state=10,\n",
    "                                     refit=True,\n",
    "                                     )\n",
    "\n",
    "bayes_search.fit(X=X_train, y=y_train)\n"
   ]
  },
  {
   "cell_type": "code",
   "execution_count": null,
   "metadata": {},
   "outputs": [],
   "source": [
    "bayes_search.best_params_"
   ]
  },
  {
   "cell_type": "code",
   "execution_count": null,
   "metadata": {},
   "outputs": [],
   "source": [
    "bayes_search.predict(X_train).plot()"
   ]
  },
  {
   "cell_type": "code",
   "execution_count": null,
   "metadata": {},
   "outputs": [],
   "source": [
    "y_train.plot()"
   ]
  },
  {
   "cell_type": "code",
   "execution_count": null,
   "metadata": {},
   "outputs": [],
   "source": [
    "from sklearn.model_selection import KFold, StratifiedKFold, StratifiedShuffleSplit, ShuffleSplit"
   ]
  },
  {
   "cell_type": "code",
   "execution_count": null,
   "metadata": {},
   "outputs": [],
   "source": [
    "KFold(), StratifiedKFold(), StratifiedShuffleSplit(), ShuffleSplit()"
   ]
  },
  {
   "cell_type": "code",
   "execution_count": null,
   "metadata": {},
   "outputs": [],
   "source": [
    "from sklearn.metrics import r2_score\n"
   ]
  },
  {
   "cell_type": "code",
   "execution_count": null,
   "metadata": {},
   "outputs": [],
   "source": [
    "r2_score()"
   ]
  }
 ],
 "metadata": {
  "kernelspec": {
   "display_name": "Python 3",
   "language": "python",
   "name": "python3"
  },
  "language_info": {
   "codemirror_mode": {
    "name": "ipython",
    "version": 3
   },
   "file_extension": ".py",
   "mimetype": "text/x-python",
   "name": "python",
   "nbconvert_exporter": "python",
   "pygments_lexer": "ipython3",
   "version": "3.8.5"
  }
 },
 "nbformat": 4,
 "nbformat_minor": 4
}
